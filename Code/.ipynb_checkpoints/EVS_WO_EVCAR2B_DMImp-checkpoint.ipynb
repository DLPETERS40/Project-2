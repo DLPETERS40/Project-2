{
 "cells": [
  {
   "cell_type": "markdown",
   "id": "c996cfdd",
   "metadata": {},
   "source": [
    "# Data Model Implementation (25 points)\n",
    "## THIS VERSION OF THE DATASET DOES NOT HAVE EVCAR2B, so the dataset is larger.\n",
    "\n",
    "#There is a Jupyter notebook that thoroughly describes the data extraction, cleaning, and \n",
    "#transformation process, and the cleaned data is exported as CSV files for the machine learning model. (10 points)\n",
    "\n",
    "#A Python script initializes, trains, and evaluates a model or loads a pretrained model. (10 points)\n",
    "\n",
    "#The model demonstrates meaningful predictive power at least 75% classification accuracy or 0.80 R-squared. (5 points)\n",
    "\n"
   ]
  },
  {
   "cell_type": "code",
   "execution_count": null,
   "id": "95b0cbc5",
   "metadata": {},
   "outputs": [],
   "source": [
    "\n",
    "#Setup dependencies, create encoder instances, and save Raw (initial) DataFrame as a .csv file\n",
    "  \n",
    "import pandas as pd\n",
    "import numpy as np\n",
    "import matplotlib.pyplot as plt\n",
    "from sklearn.preprocessing import OneHotEncoder\n",
    "encoder = OneHotEncoder(sparse=False) \n",
    "\n",
    "path = \"/Users/kim/Desktop/Project-2/Data/ATP W108.xlsx\"\n",
    "df = pd.read_excel(path)\n",
    "df\n",
    "\n",
    "#Write the Raw DataFrame to a .csv file\n",
    "df.to_csv('ATP_108_Raw_csv', index=False)"
   ]
  },
  {
   "cell_type": "code",
   "execution_count": null,
   "id": "bc9e5df3",
   "metadata": {},
   "outputs": [],
   "source": [
    "column_list = df.columns.tolist()\n",
    "column_list"
   ]
  },
  {
   "cell_type": "code",
   "execution_count": null,
   "id": "eb17afcd",
   "metadata": {},
   "outputs": [],
   "source": [
    "#Create Original DF (pandas version) of columns to be used for analyses but from the Raw DF.  Then, save as a CSV.\n",
    "\n",
    "EV_df_original_1A = df[[\n",
    "    'QKEY',\n",
    "    'ENV2_a_W108', \n",
    "    'ENV2_b_W108',\n",
    "    'ENV2_d_W108', \n",
    "    'ENV2_f_W108',\n",
    "    'EN1_W108', \n",
    "    'EVCAR2_W108', \n",
    "    'EVCAR3_W108', \n",
    "    'EVCAR1_W108',\n",
    "    'ENVIR8_a_W108',\n",
    "    'ENVIR8_e_W108',\n",
    "    'LOCENV_a_W108',\n",
    "    'LOCENV_d_W108',\n",
    "    'LOCENV_e_W108',\n",
    "    'ENVRMPCT_a_W108',\n",
    "    'ENVRMPCT_b_W108',\n",
    "    'ENVRMPCT_c_W108',\n",
    "    'ENVRMPCT_d_W108',\n",
    "    'ENVRMPCT_e_W108',\n",
    "    'CCPOLICY_e_W108',\n",
    "    'RSTCWRK_a_W108',\n",
    "    'RSTCWRK_b_W108',\n",
    "    'RSTCWRK_c_W108',\n",
    "    'RSTCWRK_d_W108',\n",
    "    'RSTCWRK_e_W108',\n",
    "    'COVID_INFECT_a_W108',\n",
    "    'COVID_INFECT_b_W108',\n",
    "    'GAP21Q12_W108',\n",
    "    'F_MARITAL',\n",
    "    'F_METRO',\n",
    "    'F_CREGION',\n",
    "    'F_AGECAT',\n",
    "    'F_GENDER',\n",
    "    'F_EDUCCAT',\n",
    "    'F_RACETHNMOD',\n",
    "    'F_PARTYSUM_FINAL',\n",
    "    'F_INC_SDT1',\n",
    "    'F_IDEO',\n",
    "    'F_INTFREQ',\n",
    "]]\n",
    "\n",
    "EV_df_original_1B = pd.DataFrame(EV_df_original_1A)\n",
    "EV_df_original_1B.to_csv('ATP_108_Original_csv', index=False)\n",
    "EV_df_original_1B.to_excel('ATP_108_Original.xlsx', index=False)"
   ]
  },
  {
   "cell_type": "code",
   "execution_count": null,
   "id": "0fad35de",
   "metadata": {},
   "outputs": [],
   "source": [
    "#View properties of the dataframe\n",
    "EV_df_original_1B.info()\n",
    "EV_df_original_1B.head()\n",
    "\n"
   ]
  },
  {
   "cell_type": "markdown",
   "id": "951729e1",
   "metadata": {},
   "source": [
    "# DATA CLEANING AND PREPARATION"
   ]
  },
  {
   "cell_type": "code",
   "execution_count": null,
   "id": "7a864548",
   "metadata": {},
   "outputs": [],
   "source": [
    "#Check for duplicate respondents.  None were found.\n",
    "\n",
    "duplicates = EV_df_original_1B['QKEY'].duplicated()\n",
    "print(EV_df_original_1B[EV_df_original_1B['QKEY'].duplicated()])\n"
   ]
  },
  {
   "cell_type": "code",
   "execution_count": null,
   "id": "00da0618",
   "metadata": {},
   "outputs": [],
   "source": [
    "#Recode PARTYSUM_FINAL: Take out 9, DK/Refused/No lean\n",
    "EV_df_original_1B.drop(EV_df_original_1B[EV_df_original_1B['F_PARTYSUM_FINAL'] == 9].index, inplace=True)\n",
    "\n",
    "#GENDER (Female=1, Male=0; In some other way=3)\n",
    "EV_df_original_1B.drop(EV_df_original_1B[EV_df_original_1B['F_GENDER'] == 3].index, inplace=True)"
   ]
  },
  {
   "cell_type": "code",
   "execution_count": null,
   "id": "2fc18069",
   "metadata": {},
   "outputs": [],
   "source": [
    "#Recode 1s and 2s to 0s and 1s for this feature\n",
    "EV_df_original_1B['EN1_W108'] = EV_df_original_1B['EN1_W108'].replace([1, 2], [0, 1])"
   ]
  },
  {
   "cell_type": "code",
   "execution_count": null,
   "id": "086291f2",
   "metadata": {},
   "outputs": [],
   "source": [
    "#For 1B dataframe, drop all 99s (first converted to nulls).  Also, drop all other missing data.\n",
    "EV_df_original_1B[:] = np.where(EV_df_original_1B == 99, np.nan, EV_df_original_1B)\n",
    "EV_df_original_1B.dropna(inplace = True)\n",
    "EV_df_original_1B.reset_index()\n",
    "EV_df_original_1B.info()"
   ]
  },
  {
   "cell_type": "code",
   "execution_count": null,
   "id": "28703f72",
   "metadata": {},
   "outputs": [],
   "source": [
    "#Recode features with Favor and Oppose responses so Favor =1 and Oppose=0\n",
    "EV_df_original_1B[['ENV2_a_W108','ENV2_b_W108', 'ENV2_d_W108', 'ENV2_f_W108','EVCAR3_W108', 'CCPOLICY_e_W108']] = EV_df_original_1B[['ENV2_a_W108','ENV2_b_W108', 'ENV2_d_W108', 'ENV2_f_W108','EVCAR3_W108', 'CCPOLICY_e_W108']].replace([2, 1], [0, 1])\n",
    "\n",
    "EV_df_original_1B.info()"
   ]
  },
  {
   "cell_type": "code",
   "execution_count": null,
   "id": "c13fc431",
   "metadata": {},
   "outputs": [],
   "source": [
    "#Recode features with Yes and No responses so Yes=1 and No=0; ***EVCAR1_W108 may be imbalanced***\n",
    "EV_df_original_1B[['EVCAR1_W108','ENVRMPCT_a_W108','ENVRMPCT_b_W108','ENVRMPCT_c_W108','ENVRMPCT_d_W108','ENVRMPCT_e_W108']] = EV_df_original_1B[['EVCAR1_W108','ENVRMPCT_a_W108','ENVRMPCT_b_W108','ENVRMPCT_c_W108','ENVRMPCT_d_W108','ENVRMPCT_e_W108']].replace([2, 1], [0, 1])\n",
    "\n",
    "EV_df_original_1B.info()"
   ]
  },
  {
   "cell_type": "code",
   "execution_count": null,
   "id": "6476516a",
   "metadata": {},
   "outputs": [],
   "source": [
    "#Recode feature with 1= \"Expand alt.energy\" support and 2= \"Expand fossil fuels\" responses so 2=0 and 1=1\n",
    "EV_df_original_1B['EN1_W108'] = EV_df_original_1B['EN1_W108'].replace([2, 1], [0, 1])\n",
    "\n",
    "EV_df_original_1B.info()"
   ]
  },
  {
   "cell_type": "code",
   "execution_count": null,
   "id": "0ada73f8",
   "metadata": {},
   "outputs": [],
   "source": [
    "#Reverse features so a higher label (i.e., most, all, very) is a higher numeric score. Converted binary features to 0 and 1 values.\n",
    "#for clarity of interpretation and explanation.  We tried the OrdinalEncoding but the original scales for these features \n",
    "#not in a meaningful order, so we opted to use the replace function.  For clarity of interpretation\n",
    "#and explanation, all oridinal variables/questions/items with a 0 value indicated by their label \n",
    "#in the questionnaire were recoded to reflect a 0 value. \n",
    "#Also, for EVCAR2_W108, designate 5 as missing data given 0 value will be recoded as 0 ---- not a 1\n",
    "# EV_df_original_1B['EVCAR2_W108'] = EV_df_original_1B['EVCAR2_W108'].replace({1: 3, 2: 2, 3: 1, 4: 0})\n",
    "\n",
    "EV_df_original_1B[['GAP21Q12_W108', 'LOCENV_a_W108', 'LOCENV_d_W108', 'LOCENV_e_W108']] = EV_df_original_1B[['GAP21Q12_W108','LOCENV_a_W108', 'LOCENV_d_W108', 'LOCENV_e_W108']].replace([1, 2, 3, 4], [3, 2, 1, 0])\n",
    "\n",
    "EV_df_original_1B['F_EDUCCAT'] = EV_df_original_1B['F_EDUCCAT'].replace([1, 2, 3], [3, 2, 1])\n",
    "\n",
    "# EV_df_original_1B[['EVCAR2B_a_W108','EVCAR2B_b_W108','EVCAR2B_c_W108']] = EV_df_original_1B[['EVCAR2B_a_W108','EVCAR2B_b_W108','EVCAR2B_c_W108']].replace([1, 2, 3], [2, 1, 0])\n",
    "\n",
    "EV_df_original_1B[['COVID_INFECT_a_W108', 'COVID_INFECT_b_W108']] = EV_df_original_1B[['COVID_INFECT_a_W108', 'COVID_INFECT_b_W108']].replace([1, 2, 3, 4], [3, 2, 1, 0])\n",
    "\n",
    "EV_df_original_1B[['RSTCWRK_a_W108','RSTCWRK_b_W108', 'RSTCWRK_c_W108', 'RSTCWRK_d_W108', 'RSTCWRK_e_W108']] = EV_df_original_1B[['RSTCWRK_a_W108','RSTCWRK_b_W108', 'RSTCWRK_c_W108', 'RSTCWRK_d_W108', 'RSTCWRK_e_W108']].replace([1, 2, 3, 4, 5], [4, 3, 2, 1, 0])\n",
    "\n",
    "EV_df_original_1B['F_INTFREQ'] = EV_df_original_1B['F_INTFREQ'].replace([5, 4, 3, 2, 1], [1, 2, 3, 4, 5])\n",
    "\n",
    "EV_df_original_1B[['ENVIR8_a_W108','ENVIR8_e_W108']] = EV_df_original_1B[['ENVIR8_a_W108','ENVIR8_e_W108']].replace([1, 2, 3], [3, 1, 2])\n",
    "\n",
    "EV_df_original_1B[['F_METRO','F_GENDER']] = EV_df_original_1B[['F_METRO','F_GENDER']].replace([1, 2], [1, 0])\n",
    "\n",
    "EV_df_original_1B.info()\n",
    "\n",
    "EV_df_original_1B['EVCAR2_W108'].value_counts()"
   ]
  },
  {
   "cell_type": "code",
   "execution_count": null,
   "id": "a3e86588",
   "metadata": {
    "scrolled": true
   },
   "outputs": [],
   "source": [
    "#OneHotEncode(r) these features to break out nominal values and creat dummy variables.    \n",
    "#List the columns to encode\n",
    "\n",
    "# List of columns to encode\n",
    "columns_to_encode = ['F_MARITAL', 'F_CREGION', 'F_RACETHNMOD']\n",
    "\n",
    "# Fit and transform the encoder on the columns\n",
    "encoded = encoder.fit_transform(EV_df_original_1B[columns_to_encode])\n",
    "\n",
    "# Get feature names\n",
    "feature_names = encoder.get_feature_names_out(columns_to_encode)\n",
    "\n",
    "# Create a DataFrame with the encoded data\n",
    "encoded_df = pd.DataFrame(encoded, columns=feature_names)\n",
    "\n",
    "# Drop the original columns from the DataFrame\n",
    "EV_df_original_1B = EV_df_original_1B.drop(columns_to_encode, axis=1)\n",
    "\n",
    "# Concatenate the original DataFrame with the one-hot encoded DataFrame\n",
    "EV_df_original_1B = pd.concat([EV_df_original_1B, encoded_df], axis=1)\n",
    "\n",
    "EV_df_original_1B.info()"
   ]
  },
  {
   "cell_type": "code",
   "execution_count": null,
   "id": "07b1e5ec",
   "metadata": {},
   "outputs": [],
   "source": [
    "#Checking for outliers using boxplots\n",
    "\n",
    "# Create a separate boxplot for each column a for loop\n",
    "for column in df:\n",
    "    plt.figure()  # create a new figure\n",
    "    df.boxplot([column])  # create a boxplot for the current column\n",
    "\n",
    "    plt.title('Boxplot of ' + column)  # set the title\n",
    "    plt.ylabel('Values')  # set the y-label\n",
    "    plt.grid(True)  # add a grid\n",
    "\n",
    "\n",
    "plt.show()"
   ]
  },
  {
   "cell_type": "code",
   "execution_count": null,
   "id": "9906b30f",
   "metadata": {},
   "outputs": [],
   "source": [
    "#Initial look at values and distributions with histograms.  Accuracy in recoding?  Imbalances? Eyeshot decent distributions for ordinal data?\n",
    "\n",
    "for column in EV_df_original_1B:\n",
    "    plt.figure()  # create a new figure\n",
    "    EV_df_original_1B[column].hist(bins=50)  # create a histogram for the current column\n",
    "    plt.title('Histogram of ' + column)  # set the title\n",
    "    plt.xlabel(column)  # set the x-label\n",
    "    plt.ylabel('Frequency')  # set the y-label\n",
    "\n",
    "plt.show()"
   ]
  },
  {
   "cell_type": "code",
   "execution_count": null,
   "id": "7497b8ca",
   "metadata": {},
   "outputs": [],
   "source": []
  }
 ],
 "metadata": {
  "kernelspec": {
   "display_name": "Python 3 (ipykernel)",
   "language": "python",
   "name": "python3"
  },
  "language_info": {
   "codemirror_mode": {
    "name": "ipython",
    "version": 3
   },
   "file_extension": ".py",
   "mimetype": "text/x-python",
   "name": "python",
   "nbconvert_exporter": "python",
   "pygments_lexer": "ipython3",
   "version": "3.11.5"
  }
 },
 "nbformat": 4,
 "nbformat_minor": 5
}
