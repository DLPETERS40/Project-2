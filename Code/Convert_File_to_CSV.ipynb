{
 "cells": [
  {
   "cell_type": "markdown",
   "id": "bd6e4814",
   "metadata": {},
   "source": [
    "# General Notes for this DataFrame and Criteria for It  (25 points)\n",
    "## THIS VERSION OF THE DATASET DOES NOT HAVE EVCAR2B, so the dataset is larger.\n",
    "\n",
    "#There is a Jupyter notebook that thoroughly describes the data extraction, cleaning, and \n",
    "#transformation process, and the cleaned data is exported as CSV files for the machine learning model. (10 points)\n",
    "\n",
    "#A Python script initializes, trains, and evaluates a model or loads a pretrained model. (10 points)\n",
    "\n",
    "#The model demonstrates meaningful predictive power at least 75% classification accuracy or 0.80 R-squared. (5 points)\n",
    "\n"
   ]
  },
  {
   "cell_type": "code",
   "execution_count": null,
   "id": "468fa7b8",
   "metadata": {},
   "outputs": [],
   "source": [
    "# Data Implementation:  Data Cleaning and Preparation"
   ]
  },
  {
   "cell_type": "code",
   "execution_count": 1,
   "id": "95b0cbc5",
   "metadata": {},
   "outputs": [],
   "source": [
    "\n",
    "#Setup dependencies, create encoder instances, and save Raw (initial) DataFrame as a .csv file\n",
    "  \n",
    "import pandas as pd\n",
    "import numpy as np\n",
    "import matplotlib.pyplot as plt\n",
    "from sklearn.preprocessing import OneHotEncoder\n",
    "encoder = OneHotEncoder(sparse=False) \n",
    "\n",
    "path = \"/Users/kim/Desktop/Project-2/Data/ATP W108.xlsx\"\n",
    "df = pd.read_excel(path)\n",
    "df\n",
    "\n",
    "#Write the Raw DataFrame to a .csv file\n",
    "df.to_csv('ATP_108_Raw_csv', index=False)"
   ]
  },
  {
   "cell_type": "code",
   "execution_count": 11,
   "id": "6476516a",
   "metadata": {},
   "outputs": [
    {
     "name": "stdout",
     "output_type": "stream",
     "text": [
      "<class 'pandas.core.frame.DataFrame'>\n",
      "Index: 8529 entries, 0 to 10280\n",
      "Data columns (total 39 columns):\n",
      " #   Column               Non-Null Count  Dtype  \n",
      "---  ------               --------------  -----  \n",
      " 0   QKEY                 8529 non-null   int64  \n",
      " 1   ENV2_a_W108          8529 non-null   float64\n",
      " 2   ENV2_b_W108          8529 non-null   float64\n",
      " 3   ENV2_d_W108          8529 non-null   float64\n",
      " 4   ENV2_f_W108          8529 non-null   float64\n",
      " 5   EN1_W108             8529 non-null   float64\n",
      " 6   EVCAR2_W108          8529 non-null   float64\n",
      " 7   EVCAR3_W108          8529 non-null   float64\n",
      " 8   EVCAR1_W108          8529 non-null   float64\n",
      " 9   ENVIR8_a_W108        8529 non-null   float64\n",
      " 10  ENVIR8_e_W108        8529 non-null   float64\n",
      " 11  LOCENV_a_W108        8529 non-null   float64\n",
      " 12  LOCENV_d_W108        8529 non-null   float64\n",
      " 13  LOCENV_e_W108        8529 non-null   float64\n",
      " 14  ENVRMPCT_a_W108      8529 non-null   float64\n",
      " 15  ENVRMPCT_b_W108      8529 non-null   float64\n",
      " 16  ENVRMPCT_c_W108      8529 non-null   float64\n",
      " 17  ENVRMPCT_d_W108      8529 non-null   float64\n",
      " 18  ENVRMPCT_e_W108      8529 non-null   float64\n",
      " 19  CCPOLICY_e_W108      8529 non-null   float64\n",
      " 20  RSTCWRK_a_W108       8529 non-null   float64\n",
      " 21  RSTCWRK_b_W108       8529 non-null   float64\n",
      " 22  RSTCWRK_c_W108       8529 non-null   float64\n",
      " 23  RSTCWRK_d_W108       8529 non-null   float64\n",
      " 24  RSTCWRK_e_W108       8529 non-null   float64\n",
      " 25  COVID_INFECT_a_W108  8529 non-null   float64\n",
      " 26  COVID_INFECT_b_W108  8529 non-null   float64\n",
      " 27  GAP21Q12_W108        8529 non-null   float64\n",
      " 28  F_MARITAL            8529 non-null   float64\n",
      " 29  F_METRO              8529 non-null   int64  \n",
      " 30  F_CREGION            8529 non-null   int64  \n",
      " 31  F_AGECAT             8529 non-null   float64\n",
      " 32  F_GENDER             8529 non-null   float64\n",
      " 33  F_EDUCCAT            8529 non-null   float64\n",
      " 34  F_RACETHNMOD         8529 non-null   float64\n",
      " 35  F_PARTYSUM_FINAL     8529 non-null   int64  \n",
      " 36  F_INC_SDT1           8529 non-null   float64\n",
      " 37  F_IDEO               8529 non-null   float64\n",
      " 38  F_INTFREQ            8529 non-null   float64\n",
      "dtypes: float64(35), int64(4)\n",
      "memory usage: 2.6 MB\n"
     ]
    }
   ],
   "source": [
    "#Recode feature with 1= \"Expand alt.energy\" support and 2= \"Expand fossil fuels\" responses so 2=0 and 1=1\n",
    "EV_df_original_1B['EN1_W108'] = EV_df_original_1B['EN1_W108'].replace([2, 1], [0, 1])\n",
    "\n",
    "EV_df_original_1B.info()"
   ]
  },
  {
   "cell_type": "code",
   "execution_count": 10,
   "id": "c13fc431",
   "metadata": {
    "scrolled": true
   },
   "outputs": [
    {
     "name": "stdout",
     "output_type": "stream",
     "text": [
      "<class 'pandas.core.frame.DataFrame'>\n",
      "Index: 8529 entries, 0 to 10280\n",
      "Data columns (total 39 columns):\n",
      " #   Column               Non-Null Count  Dtype  \n",
      "---  ------               --------------  -----  \n",
      " 0   QKEY                 8529 non-null   int64  \n",
      " 1   ENV2_a_W108          8529 non-null   float64\n",
      " 2   ENV2_b_W108          8529 non-null   float64\n",
      " 3   ENV2_d_W108          8529 non-null   float64\n",
      " 4   ENV2_f_W108          8529 non-null   float64\n",
      " 5   EN1_W108             8529 non-null   float64\n",
      " 6   EVCAR2_W108          8529 non-null   float64\n",
      " 7   EVCAR3_W108          8529 non-null   float64\n",
      " 8   EVCAR1_W108          8529 non-null   float64\n",
      " 9   ENVIR8_a_W108        8529 non-null   float64\n",
      " 10  ENVIR8_e_W108        8529 non-null   float64\n",
      " 11  LOCENV_a_W108        8529 non-null   float64\n",
      " 12  LOCENV_d_W108        8529 non-null   float64\n",
      " 13  LOCENV_e_W108        8529 non-null   float64\n",
      " 14  ENVRMPCT_a_W108      8529 non-null   float64\n",
      " 15  ENVRMPCT_b_W108      8529 non-null   float64\n",
      " 16  ENVRMPCT_c_W108      8529 non-null   float64\n",
      " 17  ENVRMPCT_d_W108      8529 non-null   float64\n",
      " 18  ENVRMPCT_e_W108      8529 non-null   float64\n",
      " 19  CCPOLICY_e_W108      8529 non-null   float64\n",
      " 20  RSTCWRK_a_W108       8529 non-null   float64\n",
      " 21  RSTCWRK_b_W108       8529 non-null   float64\n",
      " 22  RSTCWRK_c_W108       8529 non-null   float64\n",
      " 23  RSTCWRK_d_W108       8529 non-null   float64\n",
      " 24  RSTCWRK_e_W108       8529 non-null   float64\n",
      " 25  COVID_INFECT_a_W108  8529 non-null   float64\n",
      " 26  COVID_INFECT_b_W108  8529 non-null   float64\n",
      " 27  GAP21Q12_W108        8529 non-null   float64\n",
      " 28  F_MARITAL            8529 non-null   float64\n",
      " 29  F_METRO              8529 non-null   int64  \n",
      " 30  F_CREGION            8529 non-null   int64  \n",
      " 31  F_AGECAT             8529 non-null   float64\n",
      " 32  F_GENDER             8529 non-null   float64\n",
      " 33  F_EDUCCAT            8529 non-null   float64\n",
      " 34  F_RACETHNMOD         8529 non-null   float64\n",
      " 35  F_PARTYSUM_FINAL     8529 non-null   int64  \n",
      " 36  F_INC_SDT1           8529 non-null   float64\n",
      " 37  F_IDEO               8529 non-null   float64\n",
      " 38  F_INTFREQ            8529 non-null   float64\n",
      "dtypes: float64(35), int64(4)\n",
      "memory usage: 2.6 MB\n"
     ]
    }
   ],
   "source": [
    "#Recode features with Yes and No responses so Yes=1 and No=0; ***EVCAR1_W108 may be imbalanced***\n",
    "EV_df_original_1B[['EVCAR1_W108','ENVRMPCT_a_W108','ENVRMPCT_b_W108','ENVRMPCT_c_W108','ENVRMPCT_d_W108','ENVRMPCT_e_W108']] = EV_df_original_1B[['EVCAR1_W108','ENVRMPCT_a_W108','ENVRMPCT_b_W108','ENVRMPCT_c_W108','ENVRMPCT_d_W108','ENVRMPCT_e_W108']].replace([2, 1], [0, 1])\n",
    "\n",
    "EV_df_original_1B.info()"
   ]
  }
 ],
 "metadata": {
  "kernelspec": {
   "display_name": "Python 3 (ipykernel)",
   "language": "python",
   "name": "python3"
  },
  "language_info": {
   "codemirror_mode": {
    "name": "ipython",
    "version": 3
   },
   "file_extension": ".py",
   "mimetype": "text/x-python",
   "name": "python",
   "nbconvert_exporter": "python",
   "pygments_lexer": "ipython3",
   "version": "3.11.5"
  }
 },
 "nbformat": 4,
 "nbformat_minor": 5
}
