{
 "cells": [
  {
   "cell_type": "markdown",
   "id": "d7b50a71",
   "metadata": {},
   "source": [
    "# General Notes for this DataFrame and Criteria for It  \n",
    "## THIS VERSION OF THE DATASET DOES NOT HAVE EVCAR2B, so the dataset is larger.\n",
    "\n",
    "#There is a Jupyter notebook that thoroughly describes the data extraction, cleaning, and \n",
    "#transformation process, and the cleaned data is exported as CSV files for the machine learning model. (10 points)\n",
    "\n",
    "#A Python script initializes, trains, and evaluates a model or loads a pretrained model. (10 points)\n",
    "\n",
    "#The model demonstrates meaningful predictive power at least 75% classification accuracy or 0.80 R-squared. (5 points)\n",
    "\n"
   ]
  },
  {
   "cell_type": "code",
   "execution_count": 1,
   "id": "468fa7b8",
   "metadata": {},
   "outputs": [],
   "source": [
    "# Data Implementation:  Data Cleaning and Preparation\n",
    "# Keeping \"Original.csv\"(subset of the original data) so it may\n",
    "# not be corrupted during later analyses in the Main Jupyter Notebook."
   ]
  },
  {
   "cell_type": "code",
   "execution_count": 2,
   "id": "95b0cbc5",
   "metadata": {},
   "outputs": [],
   "source": [
    "#Setup dependencies, create encoder instances, and save Raw (initial) DataFrame as a .csv file\n",
    "  \n",
    "import pandas as pd\n",
    "import numpy as np\n",
    "import matplotlib.pyplot as plt\n",
    "from sklearn.preprocessing import OneHotEncoder\n",
    "encoder = OneHotEncoder(sparse=False) \n",
    "\n",
    "path ='../Data/'\n",
    "df = pd.read_excel(path + 'ATP W108.xlsx')\n",
    "\n",
    "# EV_df_original_1B = pd.read_csv(path+'ATP_108_Original_csv')\n",
    "\n",
    "\n",
    "#Write the Raw DataFrame to a .csv file\n",
    "df.to_csv(path +'ATP_108_Raw_csv', index=False)"
   ]
  },
  {
   "cell_type": "code",
   "execution_count": 3,
   "id": "286db17c",
   "metadata": {},
   "outputs": [],
   "source": [
    "#Create Original DF (pandas version) of columns to be used for analyses but from the Raw DF.  Then, save as a CSV.\n",
    "\n",
    "EV_df_original_1A = df[[\n",
    "    'QKEY',\n",
    "    'ENV2_a_W108', \n",
    "    'ENV2_b_W108',\n",
    "    'ENV2_d_W108', \n",
    "    'ENV2_f_W108',\n",
    "    'EN1_W108', \n",
    "    'EVCAR2_W108', \n",
    "    'EVCAR3_W108', \n",
    "    'EVCAR1_W108',\n",
    "    'ENVIR8_a_W108',\n",
    "    'ENVIR8_e_W108',\n",
    "    'LOCENV_a_W108',\n",
    "    'LOCENV_d_W108',\n",
    "    'LOCENV_e_W108',\n",
    "    'ENVRMPCT_a_W108',\n",
    "    'ENVRMPCT_b_W108',\n",
    "    'ENVRMPCT_c_W108',\n",
    "    'ENVRMPCT_d_W108',\n",
    "    'ENVRMPCT_e_W108',\n",
    "    'CCPOLICY_e_W108',\n",
    "    'RSTCWRK_a_W108',\n",
    "    'RSTCWRK_b_W108',\n",
    "    'RSTCWRK_c_W108',\n",
    "    'RSTCWRK_d_W108',\n",
    "    'RSTCWRK_e_W108',\n",
    "    'COVID_INFECT_a_W108',\n",
    "    'COVID_INFECT_b_W108',\n",
    "    'GAP21Q12_W108',\n",
    "    'F_MARITAL',\n",
    "    'F_METRO',\n",
    "    'F_CREGION',\n",
    "    'F_AGECAT',\n",
    "    'F_GENDER',\n",
    "    'F_EDUCCAT',\n",
    "    'F_RACETHNMOD',\n",
    "    'F_PARTYSUM_FINAL',\n",
    "    'F_INC_SDT1',\n",
    "    'F_IDEO',\n",
    "    'F_INTFREQ',\n",
    "]]\n",
    "\n",
    "EV_df_original_1B = pd.DataFrame(EV_df_original_1A)\n",
    "EV_df_original_1B.to_csv(path + 'ATP_108_Original_csv', index=False)\n"
   ]
  }
 ],
 "metadata": {
  "kernelspec": {
   "display_name": "Python 3 (ipykernel)",
   "language": "python",
   "name": "python3"
  },
  "language_info": {
   "codemirror_mode": {
    "name": "ipython",
    "version": 3
   },
   "file_extension": ".py",
   "mimetype": "text/x-python",
   "name": "python",
   "nbconvert_exporter": "python",
   "pygments_lexer": "ipython3",
   "version": "3.11.5"
  }
 },
 "nbformat": 4,
 "nbformat_minor": 5
}
