{
 "cells": [
  {
   "cell_type": "markdown",
   "id": "f0c833be",
   "metadata": {},
   "source": [
    "# Data Model Implementation (25 points)\n",
    "#There is a Jupyter notebook that thoroughly describes the data extraction, cleaning, and \n",
    "#transformation process, and the cleaned data is exported as CSV files for the machine learning model. (10 points)\n",
    "\n",
    "#A Python script initializes, trains, and evaluates a model or loads a pretrained model. (10 points)\n",
    "\n",
    "#The model demonstrates meaningful predictive power at least 75% classification accuracy or 0.80 R-squared. (5 points)\n",
    "\n"
   ]
  },
  {
   "cell_type": "code",
   "execution_count": 59,
   "id": "95b0cbc5",
   "metadata": {},
   "outputs": [],
   "source": [
    "#Setup dependencies and save Raw DataFrame as a .csv file\n",
    "\n",
    "import pandas as pd\n",
    "\n",
    "path = \"/Users/ryanbusman/Desktop/Project-2/Data/ATP W108.xlsx\"\n",
    "df = pd.read_excel(path)\n",
    "df\n",
    "\n",
    "#Write the Raw DataFrame to a .csv file\n",
    "df.to_csv('ATP_108_Raw_csv', index=False)"
   ]
  },
  {
   "cell_type": "code",
   "execution_count": 60,
   "id": "bc9e5df3",
   "metadata": {},
   "outputs": [
    {
     "data": {
      "text/plain": [
       "['QKEY',\n",
       " 'INTERVIEW_START_W108',\n",
       " 'INTERVIEW_END_W108',\n",
       " 'DEVICE_TYPE_W108',\n",
       " 'LANG_W108',\n",
       " 'FORM_W108',\n",
       " 'XKNOWPAT_W108',\n",
       " 'ENV2_a_W108',\n",
       " 'ENV2_b_W108',\n",
       " 'ENV2_c_W108',\n",
       " 'ENV2_d_W108',\n",
       " 'ENV2_e_W108',\n",
       " 'ENV2_f_W108',\n",
       " 'ENKNOW1_W108',\n",
       " 'ENKNOW2_W108',\n",
       " 'EN1_W108',\n",
       " 'GASXPORT1_W108',\n",
       " 'GASXPORT2_a_W108',\n",
       " 'GASXPORT2_b_W108',\n",
       " 'GASXPORT2_c_W108',\n",
       " 'EVCAR2_W108',\n",
       " 'EVCAR2B_a_W108',\n",
       " 'EVCAR2B_b_W108',\n",
       " 'EVCAR2B_c_W108',\n",
       " 'EVCAR3_W108',\n",
       " 'EVCAR1_W108',\n",
       " 'LAWCOST_W108',\n",
       " 'ENVIR8_a_W108',\n",
       " 'ENVIR8_b_W108',\n",
       " 'ENVIR8_c_W108',\n",
       " 'ENVIR8_d_W108',\n",
       " 'ENVIR8_e_W108',\n",
       " 'LOCENV_a_W108',\n",
       " 'LOCENV_b_W108',\n",
       " 'LOCENV_c_W108',\n",
       " 'LOCENV_d_W108',\n",
       " 'LOCENV_e_W108',\n",
       " 'ENVRMPCT_a_W108',\n",
       " 'ENVRMPCT_b_W108',\n",
       " 'ENVRMPCT_c_W108',\n",
       " 'ENVRMPCT_d_W108',\n",
       " 'ENVRMPCT_e_W108',\n",
       " 'CCXTRW1_a_W108',\n",
       " 'CCXTRW1_b_W108',\n",
       " 'CCXTRW1_c_W108',\n",
       " 'CCXTRW1_d_W108',\n",
       " 'CCXTRW1_e_W108',\n",
       " 'CCPOLICY_a_W108',\n",
       " 'CCPOLICY_b_W108',\n",
       " 'CCPOLICY_c_W108',\n",
       " 'CCPOLICY_d_W108',\n",
       " 'CCPOLICY_e_W108',\n",
       " 'BIDENC4_W108',\n",
       " 'BIDENC5_W108',\n",
       " 'COVIDEGFP_a_W108',\n",
       " 'COVIDEGFP_b_W108',\n",
       " 'COVIDEGFP_c_W108',\n",
       " 'COVIDEGFP_d_W108',\n",
       " 'COVIDEGFP_g_W108',\n",
       " 'COVIDTHREAT_a_W108',\n",
       " 'COVIDTHREAT_b_W108',\n",
       " 'COVIDTHREAT_c_W108',\n",
       " 'COVIDTHREAT_d_W108',\n",
       " 'COVID_FUT_W108',\n",
       " 'CVDPRIORTY_a_W108',\n",
       " 'CVDPRIORTY_b_W108',\n",
       " 'CVDPRIORTY_c_W108',\n",
       " 'CVDPRIORTY_d_W108',\n",
       " 'CVDPRIORTY_e_W108',\n",
       " 'CVDPRIORTY_f_W108',\n",
       " 'RSTCWRK_a_W108',\n",
       " 'RSTCWRK_b_W108',\n",
       " 'RSTCWRK_c_W108',\n",
       " 'RSTCWRK_d_W108',\n",
       " 'RSTCWRK_e_W108',\n",
       " 'COVID_INFECT_a_W108',\n",
       " 'COVID_INFECT_b_W108',\n",
       " 'COVIDTRT_W108',\n",
       " 'COVIDMASK1_W108',\n",
       " 'C_MASKBTHR_a_W108',\n",
       " 'C_MASKBTHR_b_W108',\n",
       " 'CMASKTNSIT_W108',\n",
       " 'MASKFLU_W108',\n",
       " 'COVID_VAXDMOD_W108',\n",
       " 'COVID_BOOST_W108',\n",
       " 'CVDHTEST1_W108',\n",
       " 'CVDHTEST2_a_W108',\n",
       " 'CVDHTEST2_b_W108',\n",
       " 'CVDHTEST2_c_W108',\n",
       " 'CVDHTEST2_d_W108',\n",
       " 'GAP21Q12_W108',\n",
       " 'COVID_KNOWPATIENTb_W108',\n",
       " 'COVID_SELF_b_W108',\n",
       " 'COVID_SELF_c_W108',\n",
       " 'COVIDOE1_CODE1_W108',\n",
       " 'COVIDOE1_CODE2_W108',\n",
       " 'COVIDOE1_CODE3_W108',\n",
       " 'COVIDOE2_CODE1_W108',\n",
       " 'COVIDOE2_CODE2_W108',\n",
       " 'COVIDOE2_CODE3_W108',\n",
       " 'COVIDOE3_CODE1_W108',\n",
       " 'COVIDOE3_CODE2_W108',\n",
       " 'COVIDOE3_CODE3_W108',\n",
       " 'COVIDOE4_CODE1_W108',\n",
       " 'COVIDOE4_CODE2_W108',\n",
       " 'COVIDOE4_CODE3_W108',\n",
       " 'MARITAL_W108',\n",
       " 'MARITAL2_W108',\n",
       " 'MARITAL3N_W108',\n",
       " 'ONLINEDATE_W108',\n",
       " 'ONLINEDATE2_W108',\n",
       " 'F_METRO',\n",
       " 'F_CREGION',\n",
       " 'F_CDIVISION',\n",
       " 'F_AGECAT',\n",
       " 'F_GENDER',\n",
       " 'F_EDUCCAT',\n",
       " 'F_EDUCCAT2',\n",
       " 'F_HISP',\n",
       " 'F_HISP_ORIGIN',\n",
       " 'F_YEARSINUS',\n",
       " 'F_RACECMB',\n",
       " 'F_RACETHNMOD',\n",
       " 'F_CITIZEN',\n",
       " 'F_BIRTHPLACE',\n",
       " 'F_MARITAL',\n",
       " 'F_RELIG',\n",
       " 'F_BORN',\n",
       " 'F_RELIGCAT1',\n",
       " 'F_ATTEND',\n",
       " 'F_PARTY_FINAL',\n",
       " 'F_PARTYLN_FINAL',\n",
       " 'F_PARTYSUM_FINAL',\n",
       " 'F_PARTYSUMIDEO_FINAL',\n",
       " 'F_INC_SDT1',\n",
       " 'F_REG',\n",
       " 'F_IDEO',\n",
       " 'F_INTFREQ',\n",
       " 'F_VOLSUM',\n",
       " 'F_INC_TIER2',\n",
       " 'WEIGHT_W108']"
      ]
     },
     "execution_count": 60,
     "metadata": {},
     "output_type": "execute_result"
    }
   ],
   "source": [
    "column_list = df.columns.tolist()\n",
    "column_list"
   ]
  },
  {
   "cell_type": "code",
   "execution_count": 61,
   "id": "eb17afcd",
   "metadata": {},
   "outputs": [],
   "source": [
    "#Create Original DF (pandas version) of columns to be used from the Raw DF.  Then, save as a CSV.\n",
    "#Note:  Column codes are highlighted in the quesitionnaire and ATP Codebook.\n",
    "\n",
    "EV_df_original_1A = df[[\n",
    "    'ENV2_a_W108', \n",
    "    'ENV2_b_W108',\n",
    "    'ENKNOW1_W108', \n",
    "    'ENKNOW2_W108', \n",
    "    'EN1_W108', \n",
    "    'EVCAR2_W108', \n",
    "    'EVCAR2B_a_W108', \n",
    "    'EVCAR2B_b_W108', \n",
    "    'EVCAR2B_c_W108', \n",
    "    'EVCAR3_W108', \n",
    "    'EVCAR1_W108',\n",
    "    'ENVIR8_a_W108',\n",
    "    'ENVIR8_b_W108',\n",
    "    'ENVIR8_c_W108',\n",
    "    'ENVIR8_d_W108',\n",
    "    'ENVIR8_e_W108',\n",
    "    'LOCENV_a_W108',\n",
    "    'LOCENV_d_W108',\n",
    "    'LOCENV_e_W108',\n",
    "    'ENVRMPCT_a_W108',\n",
    "    'ENVRMPCT_b_W108',\n",
    "    'ENVRMPCT_c_W108',\n",
    "    'ENVRMPCT_d_W108',\n",
    "    'ENVRMPCT_e_W108',\n",
    "    'CCXTRW1_a_W108',\n",
    "    'CCXTRW1_b_W108',\n",
    "    'CCXTRW1_c_W108',\n",
    "    'CCXTRW1_d_W108',\n",
    "    'CCXTRW1_e_W108',\n",
    "    'CCPOLICY_e_W108',\n",
    "    'BIDENC4_W108',\n",
    "    'BIDENC5_W108',\n",
    "    'CVDPRIORTY_a_W108',\n",
    "    'CVDPRIORTY_b_W108',\n",
    "    'CVDPRIORTY_c_W108',\n",
    "    'CVDPRIORTY_d_W108',\n",
    "    'CVDPRIORTY_e_W108',\n",
    "    'CVDPRIORTY_f_W108',\n",
    "    'RSTCWRK_a_W108',\n",
    "    'RSTCWRK_b_W108',\n",
    "    'RSTCWRK_c_W108',\n",
    "    'RSTCWRK_d_W108',\n",
    "    'RSTCWRK_e_W108',\n",
    "    'COVID_INFECT_a_W108',\n",
    "    'COVID_INFECT_b_W108',\n",
    "    'GAP21Q12_W108',\n",
    "    'F_MARITAL',\n",
    "    'F_METRO',\n",
    "    'F_CREGION',\n",
    "    'F_AGECAT',\n",
    "    'F_GENDER',\n",
    "    'F_EDUCCAT',\n",
    "    'F_RACETHNMOD',\n",
    "    'F_PARTYSUM_FINAL',\n",
    "    'F_INC_SDT1',\n",
    "    'F_IDEO',\n",
    "    'F_INTFREQ',\n",
    "]]\n",
    "\n",
    "EV_df_orginal_1B = pd.DataFrame(EV_df_original_1A)\n",
    "EV_df_orginal_1B.to_csv('ATP_108_Original_csv', index=False)"
   ]
  },
  {
   "cell_type": "code",
   "execution_count": 62,
   "id": "0fad35de",
   "metadata": {},
   "outputs": [
    {
     "name": "stdout",
     "output_type": "stream",
     "text": [
      "<class 'pandas.core.frame.DataFrame'>\n",
      "RangeIndex: 10282 entries, 0 to 10281\n",
      "Columns: 141 entries, QKEY to WEIGHT_W108\n",
      "dtypes: datetime64[ns](2), float64(37), int64(102)\n",
      "memory usage: 11.1 MB\n"
     ]
    },
    {
     "data": {
      "text/html": [
       "<div>\n",
       "<style scoped>\n",
       "    .dataframe tbody tr th:only-of-type {\n",
       "        vertical-align: middle;\n",
       "    }\n",
       "\n",
       "    .dataframe tbody tr th {\n",
       "        vertical-align: top;\n",
       "    }\n",
       "\n",
       "    .dataframe thead th {\n",
       "        text-align: right;\n",
       "    }\n",
       "</style>\n",
       "<table border=\"1\" class=\"dataframe\">\n",
       "  <thead>\n",
       "    <tr style=\"text-align: right;\">\n",
       "      <th></th>\n",
       "      <th>QKEY</th>\n",
       "      <th>INTERVIEW_START_W108</th>\n",
       "      <th>INTERVIEW_END_W108</th>\n",
       "      <th>DEVICE_TYPE_W108</th>\n",
       "      <th>LANG_W108</th>\n",
       "      <th>FORM_W108</th>\n",
       "      <th>XKNOWPAT_W108</th>\n",
       "      <th>ENV2_a_W108</th>\n",
       "      <th>ENV2_b_W108</th>\n",
       "      <th>ENV2_c_W108</th>\n",
       "      <th>...</th>\n",
       "      <th>F_PARTYLN_FINAL</th>\n",
       "      <th>F_PARTYSUM_FINAL</th>\n",
       "      <th>F_PARTYSUMIDEO_FINAL</th>\n",
       "      <th>F_INC_SDT1</th>\n",
       "      <th>F_REG</th>\n",
       "      <th>F_IDEO</th>\n",
       "      <th>F_INTFREQ</th>\n",
       "      <th>F_VOLSUM</th>\n",
       "      <th>F_INC_TIER2</th>\n",
       "      <th>WEIGHT_W108</th>\n",
       "    </tr>\n",
       "  </thead>\n",
       "  <tbody>\n",
       "    <tr>\n",
       "      <th>0</th>\n",
       "      <td>100260</td>\n",
       "      <td>2022-05-03 19:34:26</td>\n",
       "      <td>2022-05-03 19:47:43</td>\n",
       "      <td>1</td>\n",
       "      <td>1</td>\n",
       "      <td>1</td>\n",
       "      <td>1</td>\n",
       "      <td>1</td>\n",
       "      <td>1</td>\n",
       "      <td>1</td>\n",
       "      <td>...</td>\n",
       "      <td>NaN</td>\n",
       "      <td>1</td>\n",
       "      <td>1</td>\n",
       "      <td>4</td>\n",
       "      <td>1.0</td>\n",
       "      <td>1</td>\n",
       "      <td>2.0</td>\n",
       "      <td>2</td>\n",
       "      <td>2</td>\n",
       "      <td>0.168841</td>\n",
       "    </tr>\n",
       "    <tr>\n",
       "      <th>1</th>\n",
       "      <td>100314</td>\n",
       "      <td>2022-05-05 11:21:06</td>\n",
       "      <td>2022-05-05 11:35:14</td>\n",
       "      <td>2</td>\n",
       "      <td>1</td>\n",
       "      <td>2</td>\n",
       "      <td>1</td>\n",
       "      <td>2</td>\n",
       "      <td>1</td>\n",
       "      <td>1</td>\n",
       "      <td>...</td>\n",
       "      <td>NaN</td>\n",
       "      <td>1</td>\n",
       "      <td>2</td>\n",
       "      <td>3</td>\n",
       "      <td>1.0</td>\n",
       "      <td>4</td>\n",
       "      <td>2.0</td>\n",
       "      <td>1</td>\n",
       "      <td>2</td>\n",
       "      <td>0.241554</td>\n",
       "    </tr>\n",
       "    <tr>\n",
       "      <th>2</th>\n",
       "      <td>100363</td>\n",
       "      <td>2022-05-03 17:08:10</td>\n",
       "      <td>2022-05-03 17:30:09</td>\n",
       "      <td>2</td>\n",
       "      <td>1</td>\n",
       "      <td>2</td>\n",
       "      <td>2</td>\n",
       "      <td>1</td>\n",
       "      <td>1</td>\n",
       "      <td>1</td>\n",
       "      <td>...</td>\n",
       "      <td>NaN</td>\n",
       "      <td>2</td>\n",
       "      <td>3</td>\n",
       "      <td>9</td>\n",
       "      <td>1.0</td>\n",
       "      <td>3</td>\n",
       "      <td>2.0</td>\n",
       "      <td>2</td>\n",
       "      <td>3</td>\n",
       "      <td>0.808374</td>\n",
       "    </tr>\n",
       "    <tr>\n",
       "      <th>3</th>\n",
       "      <td>100598</td>\n",
       "      <td>2022-05-04 12:29:53</td>\n",
       "      <td>2022-05-04 12:42:36</td>\n",
       "      <td>1</td>\n",
       "      <td>1</td>\n",
       "      <td>2</td>\n",
       "      <td>2</td>\n",
       "      <td>2</td>\n",
       "      <td>2</td>\n",
       "      <td>2</td>\n",
       "      <td>...</td>\n",
       "      <td>NaN</td>\n",
       "      <td>1</td>\n",
       "      <td>1</td>\n",
       "      <td>9</td>\n",
       "      <td>1.0</td>\n",
       "      <td>2</td>\n",
       "      <td>2.0</td>\n",
       "      <td>1</td>\n",
       "      <td>3</td>\n",
       "      <td>0.349435</td>\n",
       "    </tr>\n",
       "    <tr>\n",
       "      <th>4</th>\n",
       "      <td>100637</td>\n",
       "      <td>2022-05-04 11:40:08</td>\n",
       "      <td>2022-05-04 11:50:51</td>\n",
       "      <td>1</td>\n",
       "      <td>1</td>\n",
       "      <td>3</td>\n",
       "      <td>1</td>\n",
       "      <td>1</td>\n",
       "      <td>1</td>\n",
       "      <td>1</td>\n",
       "      <td>...</td>\n",
       "      <td>1.0</td>\n",
       "      <td>1</td>\n",
       "      <td>1</td>\n",
       "      <td>2</td>\n",
       "      <td>1.0</td>\n",
       "      <td>1</td>\n",
       "      <td>5.0</td>\n",
       "      <td>2</td>\n",
       "      <td>1</td>\n",
       "      <td>1.160811</td>\n",
       "    </tr>\n",
       "  </tbody>\n",
       "</table>\n",
       "<p>5 rows × 141 columns</p>\n",
       "</div>"
      ],
      "text/plain": [
       "     QKEY INTERVIEW_START_W108  INTERVIEW_END_W108  DEVICE_TYPE_W108  \\\n",
       "0  100260  2022-05-03 19:34:26 2022-05-03 19:47:43                 1   \n",
       "1  100314  2022-05-05 11:21:06 2022-05-05 11:35:14                 2   \n",
       "2  100363  2022-05-03 17:08:10 2022-05-03 17:30:09                 2   \n",
       "3  100598  2022-05-04 12:29:53 2022-05-04 12:42:36                 1   \n",
       "4  100637  2022-05-04 11:40:08 2022-05-04 11:50:51                 1   \n",
       "\n",
       "   LANG_W108  FORM_W108  XKNOWPAT_W108  ENV2_a_W108  ENV2_b_W108  ENV2_c_W108  \\\n",
       "0          1          1              1            1            1            1   \n",
       "1          1          2              1            2            1            1   \n",
       "2          1          2              2            1            1            1   \n",
       "3          1          2              2            2            2            2   \n",
       "4          1          3              1            1            1            1   \n",
       "\n",
       "   ...  F_PARTYLN_FINAL  F_PARTYSUM_FINAL  F_PARTYSUMIDEO_FINAL  F_INC_SDT1  \\\n",
       "0  ...              NaN                 1                     1           4   \n",
       "1  ...              NaN                 1                     2           3   \n",
       "2  ...              NaN                 2                     3           9   \n",
       "3  ...              NaN                 1                     1           9   \n",
       "4  ...              1.0                 1                     1           2   \n",
       "\n",
       "   F_REG  F_IDEO  F_INTFREQ  F_VOLSUM  F_INC_TIER2  WEIGHT_W108  \n",
       "0    1.0       1        2.0         2            2     0.168841  \n",
       "1    1.0       4        2.0         1            2     0.241554  \n",
       "2    1.0       3        2.0         2            3     0.808374  \n",
       "3    1.0       2        2.0         1            3     0.349435  \n",
       "4    1.0       1        5.0         2            1     1.160811  \n",
       "\n",
       "[5 rows x 141 columns]"
      ]
     },
     "execution_count": 62,
     "metadata": {},
     "output_type": "execute_result"
    }
   ],
   "source": [
    "df.info()\n",
    "df.head()\n"
   ]
  },
  {
   "cell_type": "code",
   "execution_count": 63,
   "metadata": {},
   "outputs": [
    {
     "name": "stderr",
     "output_type": "stream",
     "text": [
      "/var/folders/hx/4c5cy_wd2l35hhztry24p2mc0000gn/T/ipykernel_1980/3400074438.py:5: PerformanceWarning: Adding/subtracting object-dtype array to DatetimeArray not vectorized.\n",
      "  z_scores = np.abs((df - df.mean()) / df.std())\n"
     ]
    },
    {
     "name": "stdout",
     "output_type": "stream",
     "text": [
      "(array([    5,     8,     8, ..., 10278, 10281, 10281]), array([11,  1,  2, ..., 88,  8, 52]))\n"
     ]
    }
   ],
   "source": [
    "#Detect outliers in the DataFrame\n",
    "import numpy as np\n",
    "\n",
    "# Calculate the z-scores for each column\n",
    "z_scores = np.abs((df - df.mean()) / df.std())\n",
    "\n",
    "# Set a threshold for outlier detection\n",
    "threshold = 3\n",
    "\n",
    "# Find the indices of outliers\n",
    "outlier_indices = np.where(z_scores > threshold)\n",
    "\n",
    "# Print the indices of outliers\n",
    "print(outlier_indices)\n"
   ]
  },
  {
   "cell_type": "code",
   "execution_count": 64,
   "metadata": {},
   "outputs": [],
   "source": [
    "df['ENV2_a_W108'] = df['ENV2_a_W108'].replace({1: 1, 2: 0})\n"
   ]
  },
  {
   "cell_type": "code",
   "execution_count": 65,
   "metadata": {},
   "outputs": [],
   "source": [
    "df['ENV2_b_W108'] = df['ENV2_b_W108'].replace({1: 1, 2: 0})"
   ]
  },
  {
   "cell_type": "code",
   "execution_count": 66,
   "metadata": {},
   "outputs": [],
   "source": [
    "encoded_df = pd.get_dummies(df['EN1_W108'], prefix='EN1_W108')\n",
    "df = pd.concat([df, encoded_df], axis=1)\n"
   ]
  },
  {
   "cell_type": "code",
   "execution_count": 67,
   "metadata": {},
   "outputs": [],
   "source": [
    "df['EVCAR2_W108'] = df['EVCAR2_W108'].replace({1: 1, 2: 1, 3: 0, 4: 0, 5: np.nan})\n"
   ]
  },
  {
   "cell_type": "code",
   "execution_count": 68,
   "metadata": {},
   "outputs": [],
   "source": [
    "df['EVCAR2B_a_W108'] = df['EVCAR2B_a_W108'].replace({1: 1, 2: 2, 3: 0}).dropna()\n"
   ]
  },
  {
   "cell_type": "code",
   "execution_count": 69,
   "metadata": {},
   "outputs": [],
   "source": [
    "df['EVCAR2B_b_W108'] = df['EVCAR2B_b_W108'].replace({1: 1, 2: 2, 3: 0}).dropna()\n"
   ]
  },
  {
   "cell_type": "code",
   "execution_count": 70,
   "metadata": {},
   "outputs": [],
   "source": [
    "df['EVCAR2B_c_W108'] = df['EVCAR2B_c_W108'].replace({1: 1, 2: 2, 3: 0}).dropna()\n"
   ]
  },
  {
   "cell_type": "code",
   "execution_count": 71,
   "metadata": {},
   "outputs": [],
   "source": [
    "df['EVCAR3_W108'] = df['EVCAR3_W108'].replace({1: 1, 2: 0})\n"
   ]
  },
  {
   "cell_type": "code",
   "execution_count": 72,
   "metadata": {},
   "outputs": [],
   "source": [
    "df['ENVIR8_a_W108'] = df['ENVIR8_a_W108'].replace({1: 1, 2: 2, 3: 0}).dropna()\n",
    "df = df[df['ENVIR8_a_W108'] != 99]\n"
   ]
  },
  {
   "cell_type": "code",
   "execution_count": 73,
   "metadata": {},
   "outputs": [],
   "source": [
    "df['ENVIR8_e_W108'] = df['ENVIR8_e_W108'].replace({1: 1, 2: 2, 3: 0}).dropna()\n",
    "df = df[df['ENVIR8_e_W108'] != 99]\n"
   ]
  },
  {
   "cell_type": "code",
   "execution_count": 74,
   "metadata": {},
   "outputs": [],
   "source": [
    "df['LOCENV_a_W108'] = df['LOCENV_a_W108'].replace({1: 3, 2: 2, 3: 1, 4: 0}).dropna()\n",
    "df = df[df['LOCENV_a_W108'] != 99]\n"
   ]
  },
  {
   "cell_type": "code",
   "execution_count": 75,
   "metadata": {},
   "outputs": [],
   "source": [
    "df['combined_column'] = df[['ENVRMPCT_a_W108', 'ENVRMPCT_b_W108', 'ENVRMPCT_c_W108', 'ENVRMPCT_d_W108', 'ENVRMPCT_e_W108']].sum(axis=1)\n",
    "df['combined_column'] = df['combined_column'].replace({1: 1, 2: 0})\n"
   ]
  },
  {
   "cell_type": "code",
   "execution_count": 76,
   "metadata": {},
   "outputs": [],
   "source": [
    "df['CCPOLICY_e_W108'] = df['CCPOLICY_e_W108'].replace({1: 1, 2: 0}).dropna()\n"
   ]
  },
  {
   "cell_type": "code",
   "execution_count": 77,
   "metadata": {},
   "outputs": [],
   "source": [
    "df['BIDENC5_W108'] = df['BIDENC5_W108'].dropna().replace({1: 1, 2: 0})\n"
   ]
  },
  {
   "cell_type": "code",
   "execution_count": 78,
   "metadata": {},
   "outputs": [],
   "source": [
    "mapping = {1: 4, 2: 3, 3: 2, 4: 1, 5: 0}\n",
    "columns_to_combine = ['RSTCWRK_a_W108', 'RSTCWRK_b_W108', 'RSTCWRK_c_W108', 'RSTCWRK_d_W108', 'RSTCWRK_e_W108']\n",
    "\n",
    "df[columns_to_combine] = df[columns_to_combine].replace(mapping).dropna()\n",
    "df = df[~df[columns_to_combine].isin([99]).any(axis=1)]\n"
   ]
  },
  {
   "cell_type": "code",
   "execution_count": 79,
   "metadata": {},
   "outputs": [],
   "source": [
    "mapping = {1: 3, 2: 2, 3: 1, 4: 0}\n",
    "columns_to_combine = ['COVID_INFECT_a_W108', 'COVID_INFECT_b_W108']\n",
    "\n",
    "df[columns_to_combine] = df[columns_to_combine].replace(mapping).dropna()\n",
    "df = df[~df[columns_to_combine].isin([99]).any(axis=1)]\n"
   ]
  },
  {
   "cell_type": "code",
   "execution_count": 80,
   "metadata": {},
   "outputs": [],
   "source": [
    "df['GAP21Q12_W108'] = df['GAP21Q12_W108'].replace({1: 3, 2: 2, 3: 1, 4: 0}).dropna()\n",
    "df = df[df['GAP21Q12_W108'] != 99]\n"
   ]
  },
  {
   "cell_type": "code",
   "execution_count": 81,
   "metadata": {},
   "outputs": [],
   "source": [
    "df['MARITAL_W108'] = df['MARITAL_W108'].replace({1: 'partnered', 2: 'partnered', 3: 'non-partnered', 4: 'non-partnered'})\n",
    "df = df[~df['MARITAL_W108'].isin([5, 6, 99])]\n"
   ]
  },
  {
   "cell_type": "code",
   "execution_count": 83,
   "metadata": {},
   "outputs": [],
   "source": [
    "df = df.dropna()\n",
    "df = df[~df.isin([99]).any(axis=1)]\n"
   ]
  },
  {
   "cell_type": "code",
   "execution_count": 84,
   "metadata": {},
   "outputs": [
    {
     "name": "stdout",
     "output_type": "stream",
     "text": [
      "Integer columns: ['QKEY', 'DEVICE_TYPE_W108', 'LANG_W108', 'FORM_W108', 'XKNOWPAT_W108', 'ENV2_a_W108', 'ENV2_b_W108', 'ENV2_c_W108', 'ENV2_d_W108', 'ENV2_e_W108', 'ENV2_f_W108', 'ENKNOW1_W108', 'ENKNOW2_W108', 'EN1_W108', 'GASXPORT1_W108', 'GASXPORT2_a_W108', 'GASXPORT2_b_W108', 'GASXPORT2_c_W108', 'EVCAR3_W108', 'EVCAR1_W108', 'LAWCOST_W108', 'ENVIR8_a_W108', 'ENVIR8_b_W108', 'ENVIR8_c_W108', 'ENVIR8_d_W108', 'ENVIR8_e_W108', 'LOCENV_a_W108', 'LOCENV_d_W108', 'LOCENV_e_W108', 'ENVRMPCT_a_W108', 'ENVRMPCT_b_W108', 'ENVRMPCT_c_W108', 'ENVRMPCT_d_W108', 'ENVRMPCT_e_W108', 'CCPOLICY_a_W108', 'CCPOLICY_b_W108', 'CCPOLICY_c_W108', 'CCPOLICY_d_W108', 'CCPOLICY_e_W108', 'BIDENC4_W108', 'COVIDEGFP_a_W108', 'COVIDEGFP_b_W108', 'COVIDEGFP_c_W108', 'COVIDEGFP_d_W108', 'COVIDEGFP_g_W108', 'COVIDTHREAT_a_W108', 'COVIDTHREAT_b_W108', 'COVIDTHREAT_c_W108', 'COVIDTHREAT_d_W108', 'COVID_FUT_W108', 'CVDPRIORTY_a_W108', 'CVDPRIORTY_b_W108', 'CVDPRIORTY_c_W108', 'CVDPRIORTY_d_W108', 'CVDPRIORTY_e_W108', 'CVDPRIORTY_f_W108', 'RSTCWRK_a_W108', 'RSTCWRK_b_W108', 'RSTCWRK_c_W108', 'RSTCWRK_d_W108', 'RSTCWRK_e_W108', 'COVID_INFECT_a_W108', 'COVID_INFECT_b_W108', 'COVIDTRT_W108', 'COVIDMASK1_W108', 'C_MASKBTHR_a_W108', 'C_MASKBTHR_b_W108', 'CMASKTNSIT_W108', 'MASKFLU_W108', 'COVID_VAXDMOD_W108', 'COVID_BOOST_W108', 'CVDHTEST1_W108', 'GAP21Q12_W108', 'COVID_SELF_b_W108', 'COVID_SELF_c_W108', 'ONLINEDATE_W108', 'F_METRO', 'F_CREGION', 'F_CDIVISION', 'F_AGECAT', 'F_GENDER', 'F_EDUCCAT', 'F_EDUCCAT2', 'F_HISP', 'F_YEARSINUS', 'F_RACECMB', 'F_RACETHNMOD', 'F_CITIZEN', 'F_BIRTHPLACE', 'F_MARITAL', 'F_RELIG', 'F_RELIGCAT1', 'F_ATTEND', 'F_PARTY_FINAL', 'F_PARTYSUM_FINAL', 'F_PARTYSUMIDEO_FINAL', 'F_INC_SDT1', 'F_IDEO', 'F_VOLSUM', 'F_INC_TIER2', 'combined_column']\n",
      "Float columns: ['EVCAR2_W108', 'EVCAR2B_a_W108', 'EVCAR2B_b_W108', 'EVCAR2B_c_W108', 'LOCENV_b_W108', 'LOCENV_c_W108', 'CCXTRW1_a_W108', 'CCXTRW1_b_W108', 'CCXTRW1_c_W108', 'CCXTRW1_d_W108', 'CCXTRW1_e_W108', 'BIDENC5_W108', 'CVDHTEST2_a_W108', 'CVDHTEST2_b_W108', 'CVDHTEST2_c_W108', 'CVDHTEST2_d_W108', 'COVID_KNOWPATIENTb_W108', 'COVIDOE1_CODE1_W108', 'COVIDOE1_CODE2_W108', 'COVIDOE1_CODE3_W108', 'COVIDOE2_CODE1_W108', 'COVIDOE2_CODE2_W108', 'COVIDOE2_CODE3_W108', 'COVIDOE3_CODE1_W108', 'COVIDOE3_CODE2_W108', 'COVIDOE3_CODE3_W108', 'COVIDOE4_CODE1_W108', 'COVIDOE4_CODE2_W108', 'COVIDOE4_CODE3_W108', 'MARITAL2_W108', 'MARITAL3N_W108', 'ONLINEDATE2_W108', 'F_HISP_ORIGIN', 'F_BORN', 'F_PARTYLN_FINAL', 'F_REG', 'F_INTFREQ', 'WEIGHT_W108']\n",
      "Other columns: ['INTERVIEW_START_W108', 'INTERVIEW_END_W108', 'MARITAL_W108', 'EN1_W108_1', 'EN1_W108_2', 'EN1_W108_99']\n"
     ]
    }
   ],
   "source": [
    "int_columns = df.select_dtypes(include='int').columns.tolist()\n",
    "float_columns = df.select_dtypes(include='float').columns.tolist()\n",
    "other_columns = df.select_dtypes(exclude=['int', 'float']).columns.tolist()\n",
    "\n",
    "print(\"Integer columns:\", int_columns)\n",
    "print(\"Float columns:\", float_columns)\n",
    "print(\"Other columns:\", other_columns)\n"
   ]
  },
  {
   "cell_type": "code",
   "execution_count": 86,
   "metadata": {},
   "outputs": [
    {
     "ename": "ValueError",
     "evalue": "skewtest is not valid with less than 8 samples; 0 samples were given.",
     "output_type": "error",
     "traceback": [
      "\u001b[0;31m---------------------------------------------------------------------------\u001b[0m",
      "\u001b[0;31mValueError\u001b[0m                                Traceback (most recent call last)",
      "\u001b[0;32m/var/folders/hx/4c5cy_wd2l35hhztry24p2mc0000gn/T/ipykernel_1980/3382333225.py\u001b[0m in \u001b[0;36m?\u001b[0;34m()\u001b[0m\n\u001b[1;32m      1\u001b[0m \u001b[0;32mfrom\u001b[0m \u001b[0mscipy\u001b[0m \u001b[0;32mimport\u001b[0m \u001b[0mstats\u001b[0m\u001b[0;34m\u001b[0m\u001b[0;34m\u001b[0m\u001b[0m\n\u001b[1;32m      2\u001b[0m \u001b[0;34m\u001b[0m\u001b[0m\n\u001b[1;32m      3\u001b[0m \u001b[0;31m# Perform normality test on the data\u001b[0m\u001b[0;34m\u001b[0m\u001b[0;34m\u001b[0m\u001b[0m\n\u001b[0;32m----> 4\u001b[0;31m \u001b[0mstatistic\u001b[0m\u001b[0;34m,\u001b[0m \u001b[0mp_value\u001b[0m \u001b[0;34m=\u001b[0m \u001b[0mstats\u001b[0m\u001b[0;34m.\u001b[0m\u001b[0mnormaltest\u001b[0m\u001b[0;34m(\u001b[0m\u001b[0mdf\u001b[0m\u001b[0;34m)\u001b[0m\u001b[0;34m\u001b[0m\u001b[0;34m\u001b[0m\u001b[0m\n\u001b[0m\u001b[1;32m      5\u001b[0m \u001b[0;34m\u001b[0m\u001b[0m\n\u001b[1;32m      6\u001b[0m \u001b[0;31m# Check if the data follows a normal distribution\u001b[0m\u001b[0;34m\u001b[0m\u001b[0;34m\u001b[0m\u001b[0m\n\u001b[1;32m      7\u001b[0m \u001b[0;32mif\u001b[0m \u001b[0mp_value\u001b[0m \u001b[0;34m<\u001b[0m \u001b[0;36m0.05\u001b[0m\u001b[0;34m:\u001b[0m\u001b[0;34m\u001b[0m\u001b[0;34m\u001b[0m\u001b[0m\n",
      "\u001b[0;32m~/anaconda3/envs/dev/lib/python3.10/site-packages/scipy/stats/_stats_py.py\u001b[0m in \u001b[0;36m?\u001b[0;34m(a, axis, nan_policy)\u001b[0m\n\u001b[1;32m   1988\u001b[0m     \u001b[0;32mif\u001b[0m \u001b[0mcontains_nan\u001b[0m \u001b[0;32mand\u001b[0m \u001b[0mnan_policy\u001b[0m \u001b[0;34m==\u001b[0m \u001b[0;34m'omit'\u001b[0m\u001b[0;34m:\u001b[0m\u001b[0;34m\u001b[0m\u001b[0;34m\u001b[0m\u001b[0m\n\u001b[1;32m   1989\u001b[0m         \u001b[0ma\u001b[0m \u001b[0;34m=\u001b[0m \u001b[0mma\u001b[0m\u001b[0;34m.\u001b[0m\u001b[0mmasked_invalid\u001b[0m\u001b[0;34m(\u001b[0m\u001b[0ma\u001b[0m\u001b[0;34m)\u001b[0m\u001b[0;34m\u001b[0m\u001b[0;34m\u001b[0m\u001b[0m\n\u001b[1;32m   1990\u001b[0m         \u001b[0;32mreturn\u001b[0m \u001b[0mmstats_basic\u001b[0m\u001b[0;34m.\u001b[0m\u001b[0mnormaltest\u001b[0m\u001b[0;34m(\u001b[0m\u001b[0ma\u001b[0m\u001b[0;34m,\u001b[0m \u001b[0maxis\u001b[0m\u001b[0;34m)\u001b[0m\u001b[0;34m\u001b[0m\u001b[0;34m\u001b[0m\u001b[0m\n\u001b[1;32m   1991\u001b[0m \u001b[0;34m\u001b[0m\u001b[0m\n\u001b[0;32m-> 1992\u001b[0;31m     \u001b[0ms\u001b[0m\u001b[0;34m,\u001b[0m \u001b[0m_\u001b[0m \u001b[0;34m=\u001b[0m \u001b[0mskewtest\u001b[0m\u001b[0;34m(\u001b[0m\u001b[0ma\u001b[0m\u001b[0;34m,\u001b[0m \u001b[0maxis\u001b[0m\u001b[0;34m)\u001b[0m\u001b[0;34m\u001b[0m\u001b[0;34m\u001b[0m\u001b[0m\n\u001b[0m\u001b[1;32m   1993\u001b[0m     \u001b[0mk\u001b[0m\u001b[0;34m,\u001b[0m \u001b[0m_\u001b[0m \u001b[0;34m=\u001b[0m \u001b[0mkurtosistest\u001b[0m\u001b[0;34m(\u001b[0m\u001b[0ma\u001b[0m\u001b[0;34m,\u001b[0m \u001b[0maxis\u001b[0m\u001b[0;34m)\u001b[0m\u001b[0;34m\u001b[0m\u001b[0;34m\u001b[0m\u001b[0m\n\u001b[1;32m   1994\u001b[0m     \u001b[0mk2\u001b[0m \u001b[0;34m=\u001b[0m \u001b[0ms\u001b[0m\u001b[0;34m*\u001b[0m\u001b[0ms\u001b[0m \u001b[0;34m+\u001b[0m \u001b[0mk\u001b[0m\u001b[0;34m*\u001b[0m\u001b[0mk\u001b[0m\u001b[0;34m\u001b[0m\u001b[0;34m\u001b[0m\u001b[0m\n\u001b[1;32m   1995\u001b[0m \u001b[0;34m\u001b[0m\u001b[0m\n",
      "\u001b[0;32m~/anaconda3/envs/dev/lib/python3.10/site-packages/scipy/stats/_stats_py.py\u001b[0m in \u001b[0;36m?\u001b[0;34m(a, axis, nan_policy, alternative)\u001b[0m\n\u001b[1;32m   1605\u001b[0m         \u001b[0maxis\u001b[0m \u001b[0;34m=\u001b[0m \u001b[0;36m0\u001b[0m\u001b[0;34m\u001b[0m\u001b[0;34m\u001b[0m\u001b[0m\n\u001b[1;32m   1606\u001b[0m     \u001b[0mb2\u001b[0m \u001b[0;34m=\u001b[0m \u001b[0mskew\u001b[0m\u001b[0;34m(\u001b[0m\u001b[0ma\u001b[0m\u001b[0;34m,\u001b[0m \u001b[0maxis\u001b[0m\u001b[0;34m)\u001b[0m\u001b[0;34m\u001b[0m\u001b[0;34m\u001b[0m\u001b[0m\n\u001b[1;32m   1607\u001b[0m     \u001b[0mn\u001b[0m \u001b[0;34m=\u001b[0m \u001b[0ma\u001b[0m\u001b[0;34m.\u001b[0m\u001b[0mshape\u001b[0m\u001b[0;34m[\u001b[0m\u001b[0maxis\u001b[0m\u001b[0;34m]\u001b[0m\u001b[0;34m\u001b[0m\u001b[0;34m\u001b[0m\u001b[0m\n\u001b[1;32m   1608\u001b[0m     \u001b[0;32mif\u001b[0m \u001b[0mn\u001b[0m \u001b[0;34m<\u001b[0m \u001b[0;36m8\u001b[0m\u001b[0;34m:\u001b[0m\u001b[0;34m\u001b[0m\u001b[0;34m\u001b[0m\u001b[0m\n\u001b[0;32m-> 1609\u001b[0;31m         raise ValueError(\n\u001b[0m\u001b[1;32m   1610\u001b[0m             \u001b[0;34m\"skewtest is not valid with less than 8 samples; %i samples\"\u001b[0m\u001b[0;34m\u001b[0m\u001b[0;34m\u001b[0m\u001b[0m\n\u001b[1;32m   1611\u001b[0m             \" were given.\" % int(n))\n\u001b[1;32m   1612\u001b[0m     \u001b[0my\u001b[0m \u001b[0;34m=\u001b[0m \u001b[0mb2\u001b[0m \u001b[0;34m*\u001b[0m \u001b[0mmath\u001b[0m\u001b[0;34m.\u001b[0m\u001b[0msqrt\u001b[0m\u001b[0;34m(\u001b[0m\u001b[0;34m(\u001b[0m\u001b[0;34m(\u001b[0m\u001b[0mn\u001b[0m \u001b[0;34m+\u001b[0m \u001b[0;36m1\u001b[0m\u001b[0;34m)\u001b[0m \u001b[0;34m*\u001b[0m \u001b[0;34m(\u001b[0m\u001b[0mn\u001b[0m \u001b[0;34m+\u001b[0m \u001b[0;36m3\u001b[0m\u001b[0;34m)\u001b[0m\u001b[0;34m)\u001b[0m \u001b[0;34m/\u001b[0m \u001b[0;34m(\u001b[0m\u001b[0;36m6.0\u001b[0m \u001b[0;34m*\u001b[0m \u001b[0;34m(\u001b[0m\u001b[0mn\u001b[0m \u001b[0;34m-\u001b[0m \u001b[0;36m2\u001b[0m\u001b[0;34m)\u001b[0m\u001b[0;34m)\u001b[0m\u001b[0;34m)\u001b[0m\u001b[0;34m\u001b[0m\u001b[0;34m\u001b[0m\u001b[0m\n",
      "\u001b[0;31mValueError\u001b[0m: skewtest is not valid with less than 8 samples; 0 samples were given."
     ]
    }
   ],
   "source": [
    "from scipy import stats\n",
    "\n",
    "# Perform normality test on the data\n",
    "statistic, p_value = stats.normaltest(df)\n",
    "\n",
    "# Check if the data follows a normal distribution\n",
    "if p_value < 0.05:\n",
    "    print(\"The data does not follow a normal distribution.\")\n",
    "else:\n",
    "    print(\"The data follows a normal distribution.\")\n"
   ]
  },
  {
   "cell_type": "code",
   "execution_count": 87,
   "metadata": {},
   "outputs": [
    {
     "ename": "KeyError",
     "evalue": "\"['target_variable'] not found in axis\"",
     "output_type": "error",
     "traceback": [
      "\u001b[0;31m---------------------------------------------------------------------------\u001b[0m",
      "\u001b[0;31mKeyError\u001b[0m                                  Traceback (most recent call last)",
      "\u001b[1;32m/Users/ryanbusman/Desktop/Project-2/Code/EVs_DMImplementation.ipynb Cell 28\u001b[0m line \u001b[0;36m3\n\u001b[1;32m      <a href='vscode-notebook-cell:/Users/ryanbusman/Desktop/Project-2/Code/EVs_DMImplementation.ipynb#X60sZmlsZQ%3D%3D?line=0'>1</a>\u001b[0m \u001b[39mfrom\u001b[39;00m \u001b[39msklearn\u001b[39;00m\u001b[39m.\u001b[39;00m\u001b[39mmodel_selection\u001b[39;00m \u001b[39mimport\u001b[39;00m train_test_split\n\u001b[1;32m      <a href='vscode-notebook-cell:/Users/ryanbusman/Desktop/Project-2/Code/EVs_DMImplementation.ipynb#X60sZmlsZQ%3D%3D?line=1'>2</a>\u001b[0m \u001b[39m# Separate the features and target variable\u001b[39;00m\n\u001b[0;32m----> <a href='vscode-notebook-cell:/Users/ryanbusman/Desktop/Project-2/Code/EVs_DMImplementation.ipynb#X60sZmlsZQ%3D%3D?line=2'>3</a>\u001b[0m X \u001b[39m=\u001b[39m df\u001b[39m.\u001b[39;49mdrop(\u001b[39m'\u001b[39;49m\u001b[39mtarget_variable\u001b[39;49m\u001b[39m'\u001b[39;49m, axis\u001b[39m=\u001b[39;49m\u001b[39m1\u001b[39;49m)\n\u001b[1;32m      <a href='vscode-notebook-cell:/Users/ryanbusman/Desktop/Project-2/Code/EVs_DMImplementation.ipynb#X60sZmlsZQ%3D%3D?line=3'>4</a>\u001b[0m y \u001b[39m=\u001b[39m df[\u001b[39m'\u001b[39m\u001b[39mtarget_variable\u001b[39m\u001b[39m'\u001b[39m]\n\u001b[1;32m      <a href='vscode-notebook-cell:/Users/ryanbusman/Desktop/Project-2/Code/EVs_DMImplementation.ipynb#X60sZmlsZQ%3D%3D?line=5'>6</a>\u001b[0m \u001b[39m# Split the data into training and testing sets\u001b[39;00m\n",
      "File \u001b[0;32m~/anaconda3/envs/dev/lib/python3.10/site-packages/pandas/core/frame.py:5258\u001b[0m, in \u001b[0;36mDataFrame.drop\u001b[0;34m(self, labels, axis, index, columns, level, inplace, errors)\u001b[0m\n\u001b[1;32m   5110\u001b[0m \u001b[39mdef\u001b[39;00m \u001b[39mdrop\u001b[39m(\n\u001b[1;32m   5111\u001b[0m     \u001b[39mself\u001b[39m,\n\u001b[1;32m   5112\u001b[0m     labels: IndexLabel \u001b[39m=\u001b[39m \u001b[39mNone\u001b[39;00m,\n\u001b[0;32m   (...)\u001b[0m\n\u001b[1;32m   5119\u001b[0m     errors: IgnoreRaise \u001b[39m=\u001b[39m \u001b[39m\"\u001b[39m\u001b[39mraise\u001b[39m\u001b[39m\"\u001b[39m,\n\u001b[1;32m   5120\u001b[0m ) \u001b[39m-\u001b[39m\u001b[39m>\u001b[39m DataFrame \u001b[39m|\u001b[39m \u001b[39mNone\u001b[39;00m:\n\u001b[1;32m   5121\u001b[0m \u001b[39m    \u001b[39m\u001b[39m\"\"\"\u001b[39;00m\n\u001b[1;32m   5122\u001b[0m \u001b[39m    Drop specified labels from rows or columns.\u001b[39;00m\n\u001b[1;32m   5123\u001b[0m \n\u001b[0;32m   (...)\u001b[0m\n\u001b[1;32m   5256\u001b[0m \u001b[39m            weight  1.0     0.8\u001b[39;00m\n\u001b[1;32m   5257\u001b[0m \u001b[39m    \"\"\"\u001b[39;00m\n\u001b[0;32m-> 5258\u001b[0m     \u001b[39mreturn\u001b[39;00m \u001b[39msuper\u001b[39;49m()\u001b[39m.\u001b[39;49mdrop(\n\u001b[1;32m   5259\u001b[0m         labels\u001b[39m=\u001b[39;49mlabels,\n\u001b[1;32m   5260\u001b[0m         axis\u001b[39m=\u001b[39;49maxis,\n\u001b[1;32m   5261\u001b[0m         index\u001b[39m=\u001b[39;49mindex,\n\u001b[1;32m   5262\u001b[0m         columns\u001b[39m=\u001b[39;49mcolumns,\n\u001b[1;32m   5263\u001b[0m         level\u001b[39m=\u001b[39;49mlevel,\n\u001b[1;32m   5264\u001b[0m         inplace\u001b[39m=\u001b[39;49minplace,\n\u001b[1;32m   5265\u001b[0m         errors\u001b[39m=\u001b[39;49merrors,\n\u001b[1;32m   5266\u001b[0m     )\n",
      "File \u001b[0;32m~/anaconda3/envs/dev/lib/python3.10/site-packages/pandas/core/generic.py:4549\u001b[0m, in \u001b[0;36mNDFrame.drop\u001b[0;34m(self, labels, axis, index, columns, level, inplace, errors)\u001b[0m\n\u001b[1;32m   4547\u001b[0m \u001b[39mfor\u001b[39;00m axis, labels \u001b[39min\u001b[39;00m axes\u001b[39m.\u001b[39mitems():\n\u001b[1;32m   4548\u001b[0m     \u001b[39mif\u001b[39;00m labels \u001b[39mis\u001b[39;00m \u001b[39mnot\u001b[39;00m \u001b[39mNone\u001b[39;00m:\n\u001b[0;32m-> 4549\u001b[0m         obj \u001b[39m=\u001b[39m obj\u001b[39m.\u001b[39;49m_drop_axis(labels, axis, level\u001b[39m=\u001b[39;49mlevel, errors\u001b[39m=\u001b[39;49merrors)\n\u001b[1;32m   4551\u001b[0m \u001b[39mif\u001b[39;00m inplace:\n\u001b[1;32m   4552\u001b[0m     \u001b[39mself\u001b[39m\u001b[39m.\u001b[39m_update_inplace(obj)\n",
      "File \u001b[0;32m~/anaconda3/envs/dev/lib/python3.10/site-packages/pandas/core/generic.py:4591\u001b[0m, in \u001b[0;36mNDFrame._drop_axis\u001b[0;34m(self, labels, axis, level, errors, only_slice)\u001b[0m\n\u001b[1;32m   4589\u001b[0m         new_axis \u001b[39m=\u001b[39m axis\u001b[39m.\u001b[39mdrop(labels, level\u001b[39m=\u001b[39mlevel, errors\u001b[39m=\u001b[39merrors)\n\u001b[1;32m   4590\u001b[0m     \u001b[39melse\u001b[39;00m:\n\u001b[0;32m-> 4591\u001b[0m         new_axis \u001b[39m=\u001b[39m axis\u001b[39m.\u001b[39;49mdrop(labels, errors\u001b[39m=\u001b[39;49merrors)\n\u001b[1;32m   4592\u001b[0m     indexer \u001b[39m=\u001b[39m axis\u001b[39m.\u001b[39mget_indexer(new_axis)\n\u001b[1;32m   4594\u001b[0m \u001b[39m# Case for non-unique axis\u001b[39;00m\n\u001b[1;32m   4595\u001b[0m \u001b[39melse\u001b[39;00m:\n",
      "File \u001b[0;32m~/anaconda3/envs/dev/lib/python3.10/site-packages/pandas/core/indexes/base.py:6699\u001b[0m, in \u001b[0;36mIndex.drop\u001b[0;34m(self, labels, errors)\u001b[0m\n\u001b[1;32m   6697\u001b[0m \u001b[39mif\u001b[39;00m mask\u001b[39m.\u001b[39many():\n\u001b[1;32m   6698\u001b[0m     \u001b[39mif\u001b[39;00m errors \u001b[39m!=\u001b[39m \u001b[39m\"\u001b[39m\u001b[39mignore\u001b[39m\u001b[39m\"\u001b[39m:\n\u001b[0;32m-> 6699\u001b[0m         \u001b[39mraise\u001b[39;00m \u001b[39mKeyError\u001b[39;00m(\u001b[39mf\u001b[39m\u001b[39m\"\u001b[39m\u001b[39m{\u001b[39;00m\u001b[39mlist\u001b[39m(labels[mask])\u001b[39m}\u001b[39;00m\u001b[39m not found in axis\u001b[39m\u001b[39m\"\u001b[39m)\n\u001b[1;32m   6700\u001b[0m     indexer \u001b[39m=\u001b[39m indexer[\u001b[39m~\u001b[39mmask]\n\u001b[1;32m   6701\u001b[0m \u001b[39mreturn\u001b[39;00m \u001b[39mself\u001b[39m\u001b[39m.\u001b[39mdelete(indexer)\n",
      "\u001b[0;31mKeyError\u001b[0m: \"['target_variable'] not found in axis\""
     ]
    }
   ],
   "source": [
    "from sklearn.model_selection import train_test_split\n",
    "# Separate the features and target variable\n",
    "X = df.drop('target_variable', axis=1)\n",
    "y = df['target_variable']\n",
    "\n",
    "# Split the data into training and testing sets\n",
    "X_train, X_test, y_train, y_test = train_test_split(X, y, test_size=0.2, random_state=42)\n",
    "\n",
    "# Handle missing values, if any\n",
    "# You can use methods like imputation or dropping rows/columns with missing values\n",
    "\n",
    "# Encode categorical variables, if any\n",
    "# You can use methods like one-hot encoding or label encoding\n",
    "\n",
    "# Scale the numerical variables, if necessary\n",
    "# You can use methods like standardization or normalization\n",
    "\n",
    "# Perform any other preprocessing steps as required\n",
    "\n",
    "# Now the dataframe is ready for supervised learning\n"
   ]
  }
 ],
 "metadata": {
  "kernelspec": {
   "display_name": "Python 3 (ipykernel)",
   "language": "python",
   "name": "python3"
  },
  "language_info": {
   "codemirror_mode": {
    "name": "ipython",
    "version": 3
   },
   "file_extension": ".py",
   "mimetype": "text/x-python",
   "name": "python",
   "nbconvert_exporter": "python",
   "pygments_lexer": "ipython3",
   "version": "3.10.13"
  }
 },
 "nbformat": 4,
 "nbformat_minor": 5
}
